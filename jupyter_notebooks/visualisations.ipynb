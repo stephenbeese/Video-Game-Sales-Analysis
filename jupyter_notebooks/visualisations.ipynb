{
  "cells": [
    {
      "cell_type": "markdown",
      "metadata": {
        "id": "0aStgWSO0E0E"
      },
      "source": [
        "# **Visualisations**"
      ]
    },
    {
      "cell_type": "markdown",
      "metadata": {},
      "source": [
        "## Objectives\n",
        "In this notebook, I will explore and communicate key trends in global video game sales to validate my hypotheses about what drives sales performance.  \n",
        "I will begin with an overview of **global sales trends**, then create targeted visualisations to test each hypothesis — such as the impact of reviews, regional platform strength, and the effect of multi-platform and first-party releases.\n",
        "\n",
        "## Inputs\n",
        "I will use the **processed datasets** created during ETL and feature engineering:\n",
        "\n",
        "- `video_game_sales_cleaned.csv` — base cleaned dataset with essential sales and metadata.\n",
        "- `video_game_sales_critic_review.csv` — games with valid critic reviews.\n",
        "- `video_game_sales_user_review.csv` — games with valid user reviews.\n",
        "- `video_game_sales_merged.csv` — aggregated game-level dataset (platforms merged).\n",
        "- `video_game_sales_first_party.csv` — dataset with engineered `is_first_party` and `is_multiplatform` columns.\n",
        "\n",
        "## Outputs\n",
        "- Visualisations that support each hypothesis:\n",
        "  - **Global sales trends** over time.\n",
        "  - Impact of **critic reviews** on sales.\n",
        "  - Impact of **user reviews** on sales.\n",
        "  - **Platform strength by region** (Nintendo, Sony, Microsoft, Other).\n",
        "  - **Multi-platform vs single-platform** sales comparison.\n",
        "  - **First-party vs third-party** sales comparison.\n",
        "- Charts and summaries for the final Tableau dashboard.\n",
        "\n",
        "## Approach\n",
        "Each visualisation ties directly to one of my hypotheses and Kanban board user stories.  \n",
        "I will start with a **Global Sales Trend** plot to establish market context, then move into deeper hypothesis testing using the processed datasets."
      ]
    },
    {
      "cell_type": "markdown",
      "metadata": {
        "id": "9uWZXH9LwoQg"
      },
      "source": [
        "---"
      ]
    },
    {
      "cell_type": "markdown",
      "metadata": {
        "id": "cqP-UeN-z3i2"
      },
      "source": [
        "# Change working directory"
      ]
    },
    {
      "cell_type": "markdown",
      "metadata": {},
      "source": [
        "* We are assuming you will store the notebooks in a subfolder, therefore when running the notebook in the editor, you will need to change the working directory"
      ]
    },
    {
      "cell_type": "markdown",
      "metadata": {
        "id": "aOGIGS-uz3i2"
      },
      "source": [
        "We need to change the working directory from its current folder to its parent folder\n",
        "* We access the current directory with os.getcwd()"
      ]
    },
    {
      "cell_type": "code",
      "execution_count": null,
      "metadata": {
        "id": "wZfF_j-Bz3i4",
        "outputId": "66943449-1436-4c3d-85c7-b85f9f78349b"
      },
      "outputs": [],
      "source": [
        "import os\n",
        "current_dir = os.getcwd()\n",
        "current_dir"
      ]
    },
    {
      "cell_type": "markdown",
      "metadata": {
        "id": "9MWW8E7lz3i7"
      },
      "source": [
        "We want to make the parent of the current directory the new current directory\n",
        "* os.path.dirname() gets the parent directory\n",
        "* os.chir() defines the new current directory"
      ]
    },
    {
      "cell_type": "code",
      "execution_count": null,
      "metadata": {
        "id": "TwHsQRWjz3i9",
        "outputId": "86849db3-cd2f-4cc5-ebb8-2d0caafa1a2c"
      },
      "outputs": [],
      "source": [
        "os.chdir(os.path.dirname(current_dir))\n",
        "print(\"You set a new current directory\")"
      ]
    },
    {
      "cell_type": "markdown",
      "metadata": {
        "id": "M_xPk_Ijz3i-"
      },
      "source": [
        "Confirm the new current directory"
      ]
    },
    {
      "cell_type": "code",
      "execution_count": null,
      "metadata": {
        "id": "vz3S-_kjz3jA",
        "outputId": "00b79ae4-75d0-4a96-d193-ac9ef9847ea2"
      },
      "outputs": [],
      "source": [
        "current_dir = os.getcwd()\n",
        "current_dir"
      ]
    },
    {
      "cell_type": "markdown",
      "metadata": {},
      "source": [
        "Set up the data directories"
      ]
    },
    {
      "cell_type": "code",
      "execution_count": null,
      "metadata": {},
      "outputs": [],
      "source": [
        "# Set the file path for the raw data\n",
        "raw_data_dir = os.path.join(current_dir, 'data/raw')\n",
        "\n",
        "# Set the file path for the processed data\n",
        "processed_data_dir = os.path.join(current_dir, 'data/processed')\n",
        "\n",
        "# Print file paths\n",
        "print(\"Raw data directory:\", raw_data_dir)\n",
        "print(\"Processed data directory:\", processed_data_dir)"
      ]
    },
    {
      "cell_type": "markdown",
      "metadata": {},
      "source": [
        "# Imports\n",
        "\n",
        "Import the necessary packages to perform the visualisation process."
      ]
    },
    {
      "cell_type": "code",
      "execution_count": null,
      "metadata": {},
      "outputs": [],
      "source": [
        "import pandas as pd\n",
        "import matplotlib.pyplot as plt\n",
        "import seaborn as sns\n",
        "import plotly.express as px\n",
        "\n",
        "from scipy.stats import linregress"
      ]
    },
    {
      "cell_type": "markdown",
      "metadata": {},
      "source": [
        "# Load the csv files into dataframes"
      ]
    },
    {
      "cell_type": "code",
      "execution_count": null,
      "metadata": {},
      "outputs": [],
      "source": [
        "df_master = pd.read_csv(os.path.join(processed_data_dir, 'video_game_sales_cleaned.csv'))\n",
        "df_merged = pd.read_csv(os.path.join(processed_data_dir, 'video_game_sales_merged.csv'))\n",
        "df_first_party = pd.read_csv(os.path.join(processed_data_dir, 'video_game_sales_first_party.csv'))\n",
        "df_critic_reviews = pd.read_csv(os.path.join(processed_data_dir, 'video_game_sales_critic_review.csv'))\n",
        "df_user_reviews = pd.read_csv(os.path.join(processed_data_dir, 'video_game_sales_user_review.csv'))"
      ]
    },
    {
      "cell_type": "markdown",
      "metadata": {},
      "source": [
        "### You can view these dataframes [here](display_data.ipynb)\n",
        "\n",
        "---"
      ]
    },
    {
      "cell_type": "markdown",
      "metadata": {
        "id": "-mavJ8DibrcQ"
      },
      "source": [
        "# Global Overview"
      ]
    },
    {
      "cell_type": "markdown",
      "metadata": {},
      "source": [
        "### Global Sales Trends Over Time\n",
        "- Plot total `Global_Sales` by `Year_of_Release`.\n",
        "- Highlight peaks (e.g. Wii/DS era, PlayStation boom)."
      ]
    },
    {
      "cell_type": "code",
      "execution_count": null,
      "metadata": {},
      "outputs": [],
      "source": [
        "# Aggregate global sales by year\n",
        "global_sales_by_year = (\n",
        "    df_master.groupby('Year_of_Release')['Global_Sales']\n",
        "    .sum()\n",
        "    .reset_index()\n",
        "    .sort_values(by='Year_of_Release')\n",
        ")\n",
        "\n",
        "# filter out invalid years\n",
        "global_sales_by_year = global_sales_by_year[global_sales_by_year['Year_of_Release'] > 0]"
      ]
    },
    {
      "cell_type": "code",
      "execution_count": null,
      "metadata": {},
      "outputs": [],
      "source": [
        "# Plot global sales over time\n",
        "plt.figure(figsize=(10, 5))\n",
        "plt.plot(global_sales_by_year[\"Year_of_Release\"], global_sales_by_year[\"Global_Sales\"], marker=\"o\")\n",
        "plt.title(\"Global Video Game Sales Trends Over Time\", fontsize=14)\n",
        "plt.xlabel(\"Year of Release\", fontsize=12)\n",
        "plt.ylabel(\"Global Sales (Millions)\", fontsize=12)\n",
        "plt.grid(True, linestyle=\"--\", alpha=0.5)\n",
        "plt.show()\n",
        "\n",
        "# Save the plot\n",
        "plt.savefig(os.path.join(current_dir, 'images/visualisations/global_sales_trends.png'))"
      ]
    },
    {
      "cell_type": "markdown",
      "metadata": {},
      "source": [
        "### Insights from Global Sales Trends\n",
        "\n",
        "* **Steady Growth (1980s–1990s)**\n",
        "  * Sales gradually rose as consoles like NES, SNES, and PlayStation became mainstream.\n",
        "\n",
        "* **Peak Era (2000–2009)**\n",
        "  - Sharp growth leading to a peak around **2008–2009**, driven by the Wii/DS boom and strong PS3/Xbox 360 releases.\n",
        "\n",
        "* **Decline After 2009**\n",
        "  - Sales drop steeply — likely due to digital distribution, mobile gaming, and fewer physical releases.\n",
        "\n",
        "* **Recent Low Volumes (2015+)**\n",
        "  - Physical sales remain low as the market shifts to digital downloads, subscriptions, and live-service games."
      ]
    },
    {
      "cell_type": "markdown",
      "metadata": {},
      "source": [
        "---\n",
        "### Average Global Sales Over Time\n",
        "- Plot average [(mean)](../README.md#core-statistical-concepts) `Global_Sales` by `Year_of_Release`.\n",
        "- Highlight key shifts in the typical game’s performance\n",
        "\n",
        "This is useful to understand how the sales per game changed over time — this avoids the distortion caused by years with unusually high numbers of releases and shows the market’s true health."
      ]
    },
    {
      "cell_type": "code",
      "execution_count": null,
      "metadata": {},
      "outputs": [],
      "source": [
        "# Calculate average global sales per game per year\n",
        "avg_sales_by_year = (\n",
        "    df_master.groupby('Year_of_Release')['Global_Sales']\n",
        "    .mean()\n",
        "    .reset_index()\n",
        "    .sort_values('Year_of_Release')\n",
        ")\n",
        "\n",
        "# Filter out invalid years\n",
        "avg_sales_by_year = avg_sales_by_year[avg_sales_by_year['Year_of_Release'] > 0]"
      ]
    },
    {
      "cell_type": "code",
      "execution_count": null,
      "metadata": {},
      "outputs": [],
      "source": [
        "# Plot\n",
        "plt.figure(figsize=(10,5))\n",
        "plt.plot(avg_sales_by_year['Year_of_Release'], avg_sales_by_year['Global_Sales'], marker='o')\n",
        "plt.title('Average Global Video Game Sales Per Game Over Time', fontsize=14)\n",
        "plt.xlabel('Year of Release', fontsize=12)\n",
        "plt.ylabel('Average Sales Per Game (Millions)', fontsize=12)\n",
        "plt.grid(True, linestyle='--', alpha=0.5)\n",
        "plt.show()\n",
        "\n",
        "# Save the plot\n",
        "plt.savefig(os.path.join(current_dir, 'images/visualisations/average_global_sales_trends.png'))"
      ]
    },
    {
      "cell_type": "markdown",
      "metadata": {},
      "source": [
        "### Insights from Average Sales per Game by Year\n",
        "\n",
        "* **Early spikes are unstable** — Pre-1995 values show sharp peaks and dips likely due to very small sample sizes (few games released per year, so one hit skews the average).\n",
        "* **Long-term decline** — After the mid-90s, average sales per game dropped and stabilised around ~0.5–1M per title, showing a more saturated market and increased competition.\n",
        "* **Hit-driven economy** — The steady low average despite total sales growth suggests the market relied on a few mega-hits (e.g., Wii Sports, GTA) while most games sold modestly.\n",
        "* **Important check** — Outliers and low release counts in early years can distort averages\n",
        "\n",
        "This plot complements total sales trends. It helps to avoid misleading conclusions (e.g., “sales peaked in 2008”) by showing that while total revenue was high, the *average game* didn’t necessarily sell better."
      ]
    },
    {
      "cell_type": "markdown",
      "metadata": {
        "id": "ZY3l0-AxO93d"
      },
      "source": [
        "---"
      ]
    },
    {
      "cell_type": "markdown",
      "metadata": {
        "id": "uFQo3ycuO-v6"
      },
      "source": [
        "# **Hypothesis Testing**\n",
        "---"
      ]
    },
    {
      "cell_type": "markdown",
      "metadata": {},
      "source": [
        "## Hypothesis 1 — Critic Reviews Drive Sales\n",
        "- **Data:** `video_game_sales_critic_review.csv`\n",
        "- **Visual:** Scatter plot of `Critic_Score` vs `Global_Sales`  \n",
        "  - Regression line  \n",
        "  - Bubble size = `Critic_Count`\n",
        "- **Validation:** Look for positive correlation & p-value < 0.05."
      ]
    },
    {
      "cell_type": "code",
      "execution_count": null,
      "metadata": {},
      "outputs": [],
      "source": [
        "plt.figure(figsize=(10,6))\n",
        "sns.scatterplot(\n",
        "    data=df_critic_reviews,\n",
        "    x=\"Critic_Score\",\n",
        "    y=\"Global_Sales\",\n",
        "    size=\"Critic_Count\",\n",
        "    sizes=(20, 200),\n",
        "    alpha=0.6\n",
        ")\n",
        "sns.regplot(\n",
        "    data=df_critic_reviews,\n",
        "    x=\"Critic_Score\",\n",
        "    y=\"Global_Sales\",\n",
        "    scatter=False,\n",
        "    color=\"red\",\n",
        "    line_kws={'label':\"Regression Line\"}\n",
        ")\n",
        "\n",
        "plt.title(\"Critic Score vs Global Sales\", fontsize=14)\n",
        "plt.xlabel(\"Critic Score\", fontsize=12)\n",
        "plt.ylabel(\"Global Sales (Millions)\", fontsize=12)\n",
        "plt.legend()\n",
        "plt.grid(alpha=0.3)\n",
        "plt.show()\n",
        "\n",
        "# Save the plot\n",
        "plt.savefig(os.path.join(current_dir, 'images/visualisations/critic_score_vs_global_sales.png'))\n"
      ]
    },
    {
      "cell_type": "code",
      "execution_count": null,
      "metadata": {},
      "outputs": [],
      "source": [
        "slope, intercept, r_value, p_value, std_err = linregress(\n",
        "    df_critic_reviews[\"Critic_Score\"], df_critic_reviews[\"Global_Sales\"]\n",
        ")\n",
        "\n",
        "print(f\"Correlation (r): {r_value:.3f}\")\n",
        "print(f\"P-value: {p_value:.5f}\")\n",
        "print(f\"Slope: {slope:.3f} (Global sales change per critic point)\")\n"
      ]
    },
    {
      "cell_type": "markdown",
      "metadata": {},
      "source": [
        "### Insights — Critic Scores vs Global Sales\n",
        "\n",
        "The scatter plot shows a **positive but modest correlation** between critic scores and global sales (r = 0.245, p < 0.001). This indicates that games with higher critic scores **tend to sell more**, but the relationship is not very strong.\n",
        "\n",
        "* **Statistical significance:** The p-value is effectively zero, so the relationship is highly significant.\n",
        "* **Practical effect:** The slope suggests that for each additional point in critic score, global sales increase on average by ~0.03 million units. While small per point, the effect could accumulate (e.g., a 20-point score difference ≈ 0.6M extra sales).\n",
        "* **Outliers:** Some blockbuster games with extreme sales overshadow most data points; filtering or using log scale helps to reveal the overall trend.\n",
        "* **Critic count:** Larger bubbles (higher `Critic_Count`) cluster among higher-scoring and better-selling games, suggesting that games with more reviews are often also more commercially successful.\n",
        "\n",
        "**Interpretation:**\n",
        "Critic scores do appear to matter, but they explain only a small portion of sales variation. Other factors (franchise, marketing, platform, genre) likely have a bigger influence on commercial success.\n",
        "\n",
        "---\n"
      ]
    },
    {
      "cell_type": "markdown",
      "metadata": {},
      "source": [
        "Due to the fact that the above graph contains some obvious outliers.\n",
        "\n",
        "I am going to filter these out to games selling less that 20M copies to create a more typical visualisation."
      ]
    },
    {
      "cell_type": "code",
      "execution_count": null,
      "metadata": {},
      "outputs": [],
      "source": [
        "# Filter out extreme outliers for readability (games selling >20M)\n",
        "filtered = df_critic_reviews[df_critic_reviews[\"Global_Sales\"] <= 20]\n",
        "\n",
        "plt.figure(figsize=(10, 6))\n",
        "\n",
        "# Bubble scatter plot using Seaborn\n",
        "sns.scatterplot(\n",
        "    data=filtered,\n",
        "    x=\"Critic_Score\",\n",
        "    y=\"Global_Sales\",\n",
        "    size=\"Critic_Count\",\n",
        "    sizes=(20, 200),      # bubble size range\n",
        "    alpha=0.5,\n",
        "    legend=\"brief\"\n",
        ")\n",
        "\n",
        "# Regression line (linear fit)\n",
        "slope, intercept, r_value, p_value, std_err = linregress(\n",
        "    filtered[\"Critic_Score\"],\n",
        "    filtered[\"Global_Sales\"]\n",
        ")\n",
        "# x_vals = filtered[\"Critic_Score\"]\n",
        "sns.lineplot(\n",
        "    x=filtered[\"Critic_Score\"],\n",
        "    y=intercept + slope*filtered[\"Critic_Score\"],\n",
        "    color=\"red\",\n",
        "    linewidth=2,\n",
        "    label=\"Regression line\"\n",
        ")\n",
        "\n",
        "# Plot formatting\n",
        "plt.xlabel(\"Critic Score\", fontsize=12)\n",
        "plt.ylabel(\"Global Sales (Millions)\", fontsize=12)\n",
        "plt.title(\"Critic Score vs Global Sales (Excluding Outliers >20M)\", fontsize=14)\n",
        "plt.grid(True, linestyle=\"--\", alpha=0.3)\n",
        "plt.legend()\n",
        "plt.show()\n",
        "\n",
        "# Save the plot\n",
        "plt.savefig(os.path.join(current_dir, 'images/visualisations/critic_score_vs_global_sales_filtered.png'))\n"
      ]
    },
    {
      "cell_type": "code",
      "execution_count": null,
      "metadata": {},
      "outputs": [],
      "source": [
        "# Display correlation stats\n",
        "print(f\"Correlation (r): {r_value:.3f}\")\n",
        "print(f\"P-value: {p_value:.5f}\")\n",
        "print(f\"Slope: {slope:.3f} (Global sales change per critic point)\")"
      ]
    },
    {
      "cell_type": "markdown",
      "metadata": {},
      "source": [
        "### Insights — Critic Reviews Drive Sales (Filtered - <20M Global Sales)\n",
        "\n",
        "The scatter plot shows a clearer positive correlation between critic scores and global sales once extreme outliers are removed (r = 0.331, p < 0.001). This suggests that critic reviews have a moderate influence on sales.\n",
        "\n",
        "* **Statistical significance:** The p-value is effectively zero, confirming the relationship is highly significant.\n",
        "* **Practical effect:** The slope indicates each additional critic point adds about **0.03M sales** on average. A 20-point difference could equate to ~0.6M extra sales.\n",
        "* **Outliers:** Removing blockbuster hits (>20M sales) improves readability and highlights the general trend.\n",
        "* **Critic count:** Larger bubbles (higher Critic_Count) still cluster toward higher scores and better sales, showing that widely reviewed, well-rated games tend to sell more.\n",
        "\n",
        "**Interpretation:** Critic scores appear to have a stronger and clearer link to sales after filtering extreme hits. However, the relationship is still moderate — other commercial drivers such as brand recognition, marketing, and platform likely play major roles.\n",
        "\n",
        "---"
      ]
    },
    {
      "cell_type": "markdown",
      "metadata": {},
      "source": [
        "## Overall Conclusion\n",
        "\n",
        "### **Higher critic review scores positively influence sales.**\n",
        "\n",
        "### Statistical Validation\n",
        "\n",
        "* **Correlation (all data):** r = **0.245** (positive but modest)\n",
        "* **Correlation (filtered <20M):** r = **0.331** (stronger once extreme hits removed)\n",
        "* **P-value:** <0.001 in both cases → **highly significant relationship**\n",
        "* **Slope:** ≈ **0.03M extra sales per 1-point critic score increase**\n",
        "  → 20-point difference ≈ +0.6M global sales\n",
        "\n",
        "### Interpretation\n",
        "\n",
        "* The hypothesis is **statistically supported** — critic scores do have a positive and significant relationship with global sales.\n",
        "* **However**, the effect size is modest, meaning critic reviews influence sales but don’t fully explain commercial success. Other factors like brand/franchise power, marketing budgets, and platform impact likely play a larger role.\n",
        "* Filtering extreme outliers made the trend clearer and improved correlation, indicating blockbuster games can distort the overall picture.\n",
        "\n",
        "**Validation Decision:**\n",
        "* Hypothesis **ACCEPTED** — critic reviews significantly influence sales, but the impact is moderate rather than dominant."
      ]
    },
    {
      "cell_type": "markdown",
      "metadata": {},
      "source": [
        "---"
      ]
    },
    {
      "cell_type": "markdown",
      "metadata": {},
      "source": [
        "## Hypothesis 2 — User Reviews Drive Sales\n",
        "\n",
        "* **Data:** `video_game_sales_user_review.csv`\n",
        "* **Visual:** Scatter plot of `User_Score` vs `Global_Sales`\n",
        "\n",
        "  * Regression line\n",
        "  * Bubble size = `User_Count`\n",
        "* **Validation:** Look for a positive correlation (p-value < 0.05) between user score and global sales."
      ]
    },
    {
      "cell_type": "code",
      "execution_count": null,
      "metadata": {},
      "outputs": [],
      "source": []
    },
    {
      "cell_type": "markdown",
      "metadata": {},
      "source": [
        "---"
      ]
    },
    {
      "cell_type": "markdown",
      "metadata": {},
      "source": [
        "## Hypothesis 3 — Platform Strength by Region\n",
        "\n",
        "* **Data:** `video_game_sales_cleaned.csv`\n",
        "* **Visual:** Grouped bar charts of average `JP_Sales`, `NA_Sales`, and `EU_Sales` by platform vendor (Nintendo, Sony, Microsoft, Other).\n",
        "* **Validation:** Use ANOVA and post-hoc Tukey tests to confirm significant differences between vendors in each region (expect Nintendo highest in Japan, Sony/Microsoft leading in NA and EU).\n"
      ]
    },
    {
      "cell_type": "code",
      "execution_count": null,
      "metadata": {},
      "outputs": [],
      "source": []
    },
    {
      "cell_type": "markdown",
      "metadata": {},
      "source": [
        "---"
      ]
    },
    {
      "cell_type": "markdown",
      "metadata": {},
      "source": [
        "## Hypothesis 4 — Multi-Platform Advantage\n",
        "\n",
        "* **Data:** `video_game_sales_merged.csv`\n",
        "* **Visual:** Boxplot or violin plot comparing `Global_Sales` for `is_multiplatform = True` vs `False`.\n",
        "* **Validation:** Test for a statistically significant difference in sales using Mann–Whitney U or t-test (expect multi-platform games to sell more globally)."
      ]
    },
    {
      "cell_type": "code",
      "execution_count": null,
      "metadata": {},
      "outputs": [],
      "source": []
    },
    {
      "cell_type": "markdown",
      "metadata": {},
      "source": [
        "---"
      ]
    },
    {
      "cell_type": "markdown",
      "metadata": {},
      "source": [
        "## Hypothesis 5 — First-Party Advantage\n",
        "\n",
        "* **Data:** `video_game_sales_first_party.csv`\n",
        "* **Visual:** Bar charts comparing mean `Global_Sales` for `is_first_party = True` vs `False`, grouped by platform vendor (Nintendo, Sony, Microsoft).\n",
        "* **Validation:** Use t-test or Mann–Whitney U to check if first-party games significantly outperform third-party titles on their respective platforms."
      ]
    },
    {
      "cell_type": "code",
      "execution_count": null,
      "metadata": {},
      "outputs": [],
      "source": []
    },
    {
      "cell_type": "markdown",
      "metadata": {},
      "source": [
        "---"
      ]
    },
    {
      "cell_type": "markdown",
      "metadata": {},
      "source": [
        "## Dashboard Preparation\n",
        "- Export any summary tables or aggregated CSVs that will feed into Tableau.\n",
        "- Note which visuals or KPIs will be highlighted (e.g. average sales per platform, first-party vs third-party performance, critic vs user review impact)."
      ]
    },
    {
      "cell_type": "markdown",
      "metadata": {},
      "source": [
        "---"
      ]
    },
    {
      "cell_type": "markdown",
      "metadata": {},
      "source": [
        "## Insights & Next Steps\n",
        "- Summarise the main findings from each hypothesis test.\n",
        "- Highlight actionable insights (e.g. “Critic reviews show stronger correlation than user reviews”; “First-party Nintendo titles outperform third-party significantly in Japan”).\n",
        "- Note next steps (interactive Tableau dashboard build)."
      ]
    },
    {
      "cell_type": "markdown",
      "metadata": {},
      "source": [
        "---"
      ]
    }
  ],
  "metadata": {
    "accelerator": "GPU",
    "colab": {
      "name": "Data Practitioner Jupyter Notebook.ipynb",
      "provenance": [],
      "toc_visible": true
    },
    "kernelspec": {
      "display_name": ".venv",
      "language": "python",
      "name": "python3"
    },
    "language_info": {
      "codemirror_mode": {
        "name": "ipython",
        "version": 3
      },
      "file_extension": ".py",
      "mimetype": "text/x-python",
      "name": "python",
      "nbconvert_exporter": "python",
      "pygments_lexer": "ipython3",
      "version": "3.12.2"
    },
    "orig_nbformat": 2
  },
  "nbformat": 4,
  "nbformat_minor": 2
}
